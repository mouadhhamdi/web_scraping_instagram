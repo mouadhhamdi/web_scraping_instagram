{
 "cells": [
  {
   "cell_type": "code",
   "execution_count": 139,
   "metadata": {},
   "outputs": [],
   "source": [
    "import pandas as pd\n",
    "import numpy as np\n",
    "import os\n",
    "import logging\n",
    "import re\n",
    "\n",
    "PATH_PUBLICATIONS = './'"
   ]
  },
  {
   "cell_type": "code",
   "execution_count": 140,
   "metadata": {},
   "outputs": [],
   "source": [
    "# Create a custom logger\n",
    "logger = logging.getLogger(__name__)\n",
    "\n",
    "# Create handlers\n",
    "c_handler = logging.StreamHandler()\n",
    "f_handler = logging.FileHandler('file.log')\n",
    "\n",
    "# Create formatters and add it to handlers\n",
    "c_format = logging.Formatter('%(name)s - %(levelname)s - %(message)s')\n",
    "f_format = logging.Formatter('%(asctime)s - %(name)s - %(levelname)s - %(message)s')\n",
    "c_handler.setFormatter(c_format)\n",
    "f_handler.setFormatter(f_format)\n",
    "\n",
    "# Add handlers to the logger\n",
    "logger.addHandler(c_handler)\n",
    "logger.addHandler(f_handler)"
   ]
  },
  {
   "cell_type": "markdown",
   "metadata": {},
   "source": [
    "# Web scrap comments "
   ]
  },
  {
   "cell_type": "code",
   "execution_count": null,
   "metadata": {},
   "outputs": [],
   "source": [
    "insta_link = \"https://www.instagram.com/p/B_5BDxlDHzt/\""
   ]
  },
  {
   "cell_type": "code",
   "execution_count": 166,
   "metadata": {},
   "outputs": [],
   "source": [
    "def get_image_code(insta_link):\n",
    "    try:\n",
    "        insta_image_code = insta_link.split('/')[-2]\n",
    "    except:\n",
    "        logger.error(\"get_image_code\" + insta_image_code)\n",
    "        \n",
    "    return insta_image_code"
   ]
  },
  {
   "cell_type": "code",
   "execution_count": 168,
   "metadata": {},
   "outputs": [],
   "source": [
    "def create_instaloader_file(insta_image_code):\n",
    "    try:\n",
    "        logger.info(\"building files for\", insta_image_code)\n",
    "        os.system(\" instaloader --comments -- -\" + insta_image_code)\n",
    "    except:\n",
    "        logger.error(\"create_instaloader\" + insta_image_code)"
   ]
  },
  {
   "cell_type": "code",
   "execution_count": 169,
   "metadata": {},
   "outputs": [],
   "source": [
    "def web_scrap_comments(insta_link):\n",
    "    insta_image_code = get_image_code(insta_link)\n",
    "    create_instaloader_file(insta_image_code)"
   ]
  },
  {
   "cell_type": "code",
   "execution_count": 170,
   "metadata": {},
   "outputs": [],
   "source": [
    "web_scrap_comments(\"https://www.instagram.com/p/B_5BDxlDHzt/\")"
   ]
  },
  {
   "cell_type": "markdown",
   "metadata": {},
   "source": [
    "# Save comments"
   ]
  },
  {
   "cell_type": "code",
   "execution_count": 171,
   "metadata": {},
   "outputs": [],
   "source": [
    "def clean_folders(PATH_PUBLICATIONS):\n",
    "    for subdir, dirs, files in os.walk(PATH_PUBLICATIONS):\n",
    "        # iterate over files in folders\n",
    "        logger.info('Start cleaning folders')\n",
    "        for file in files:\n",
    "            file_path = os.path.join(subdir, file)\n",
    "            # select comments file and the image\n",
    "            if not file_path.endswith(('comments.json', '.jpg', '.ipynb', '.log')):\n",
    "                os.remove(file_path)\n",
    "    logger.info('End cleaning folders')"
   ]
  },
  {
   "cell_type": "code",
   "execution_count": 172,
   "metadata": {},
   "outputs": [],
   "source": [
    "def save_comments(PATH_PUBLICATIONS):\n",
    "    # iterate over all directories \n",
    "    logger.info(\"Start saving comments\")\n",
    "    for subdir, dirs, files in os.walk(PATH_PUBLICATIONS):\n",
    "        # iterate over files in folders\n",
    "        for file in files:\n",
    "            file_path = os.path.join(subdir, file)\n",
    "            if file_path.endswith('comments.json'):\n",
    "                comments_df = pd.read_json(file_path)\n",
    "                # keep only creation_at, text\n",
    "                comments_df = comments_df[['created_at', 'text']].rename(columns={'created_at':'comment date',\n",
    "                                                                                 'text':'comment'})\n",
    "                comments_df.to_csv(subdir + \"/comments.csv\", index=False)\n",
    "    logger.info(\"Comments saved\")"
   ]
  },
  {
   "cell_type": "code",
   "execution_count": 173,
   "metadata": {},
   "outputs": [],
   "source": [
    "# clean folders\n",
    "clean_folders(PATH_PUBLICATIONS)"
   ]
  },
  {
   "cell_type": "code",
   "execution_count": 174,
   "metadata": {},
   "outputs": [],
   "source": [
    "# save comments\n",
    "save_comments(PATH_PUBLICATIONS)"
   ]
  },
  {
   "cell_type": "code",
   "execution_count": null,
   "metadata": {},
   "outputs": [],
   "source": []
  }
 ],
 "metadata": {
  "kernelspec": {
   "display_name": "Python 3",
   "language": "python",
   "name": "python3"
  },
  "language_info": {
   "codemirror_mode": {
    "name": "ipython",
    "version": 3
   },
   "file_extension": ".py",
   "mimetype": "text/x-python",
   "name": "python",
   "nbconvert_exporter": "python",
   "pygments_lexer": "ipython3",
   "version": "3.7.6"
  }
 },
 "nbformat": 4,
 "nbformat_minor": 4
}
