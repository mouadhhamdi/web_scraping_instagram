{
 "cells": [
  {
   "cell_type": "code",
   "execution_count": 1,
   "metadata": {},
   "outputs": [],
   "source": [
    "import pandas as pd\n",
    "import numpy as np\n",
    "import os\n",
    "import logging\n",
    "import re\n",
    "\n",
    "PATH_PUBLICATIONS = './'"
   ]
  },
  {
   "cell_type": "code",
   "execution_count": 2,
   "metadata": {},
   "outputs": [],
   "source": [
    "# Create a custom logger\n",
    "logger = logging.getLogger(__name__)\n",
    "\n",
    "# Create handlers\n",
    "c_handler = logging.StreamHandler()\n",
    "f_handler = logging.FileHandler('file.log')\n",
    "\n",
    "# Create formatters and add it to handlers\n",
    "c_format = logging.Formatter('%(name)s - %(levelname)s - %(message)s')\n",
    "f_format = logging.Formatter('%(asctime)s - %(name)s - %(levelname)s - %(message)s')\n",
    "c_handler.setFormatter(c_format)\n",
    "f_handler.setFormatter(f_format)\n",
    "\n",
    "# Add handlers to the logger\n",
    "logger.addHandler(c_handler)\n",
    "logger.addHandler(f_handler)"
   ]
  },
  {
   "cell_type": "markdown",
   "metadata": {},
   "source": [
    "# Web scrap comments "
   ]
  },
  {
   "cell_type": "code",
   "execution_count": 3,
   "metadata": {},
   "outputs": [],
   "source": [
    "insta_link = \"https://www.instagram.com/p/B76NOzRDR4v/\""
   ]
  },
  {
   "cell_type": "code",
   "execution_count": 4,
   "metadata": {},
   "outputs": [],
   "source": [
    "def get_image_code(insta_link):\n",
    "    try:\n",
    "        insta_image_code = insta_link.split('/')[-2]\n",
    "    except:\n",
    "        logger.error(\"get_image_code\" + insta_image_code)\n",
    "        \n",
    "    return insta_image_code"
   ]
  },
  {
   "cell_type": "code",
   "execution_count": 5,
   "metadata": {},
   "outputs": [],
   "source": [
    "def create_instaloader_file(insta_image_code):\n",
    "    try:\n",
    "        logger.info(\"building files for\", insta_image_code)\n",
    "        os.system(\" instaloader --comments -- -\" + insta_image_code)\n",
    "    except:\n",
    "        logger.error(\"create_instaloader\" + insta_image_code)"
   ]
  },
  {
   "cell_type": "code",
   "execution_count": 6,
   "metadata": {},
   "outputs": [],
   "source": [
    "def web_scrap_comments(insta_link):\n",
    "    insta_image_code = get_image_code(insta_link)\n",
    "    create_instaloader_file(insta_image_code)"
   ]
  },
  {
   "cell_type": "code",
   "execution_count": 7,
   "metadata": {},
   "outputs": [],
   "source": [
    "web_scrap_comments(insta_link)"
   ]
  },
  {
   "cell_type": "markdown",
   "metadata": {},
   "source": [
    "# Save comments"
   ]
  },
  {
   "cell_type": "code",
   "execution_count": 8,
   "metadata": {},
   "outputs": [],
   "source": [
    "def clean_folders(PATH_PUBLICATIONS):\n",
    "    for subdir, dirs, files in os.walk(PATH_PUBLICATIONS):\n",
    "        # iterate over files in folders\n",
    "        logger.info('Start cleaning folders')\n",
    "        for file in files:\n",
    "            file_path = os.path.join(subdir, file)\n",
    "            # select comments file and the image\n",
    "            if not file_path.endswith(('comments.json', '.jpg', '.ipynb', '.log')):\n",
    "                os.remove(file_path)\n",
    "    logger.info('End cleaning folders')"
   ]
  },
  {
   "cell_type": "code",
   "execution_count": 9,
   "metadata": {},
   "outputs": [],
   "source": [
    "def save_comments(PATH_PUBLICATIONS):\n",
    "    # iterate over all directories \n",
    "    logger.info(\"Start saving comments\")\n",
    "    for subdir, dirs, files in os.walk(PATH_PUBLICATIONS):\n",
    "        # iterate over files in folders\n",
    "        for file in files:\n",
    "            file_path = os.path.join(subdir, file)\n",
    "            if file_path.endswith('comments.json'):\n",
    "                comments_df = pd.read_json(file_path)\n",
    "                # keep only creation_at, text\n",
    "                comments_df = comments_df[['created_at', 'text']].rename(columns={'created_at':'comment date',\n",
    "                                                                                 'text':'comment'})\n",
    "                comments_df.to_csv(subdir + \"/comments.csv\", index=False)\n",
    "    logger.info(\"Comments saved\")\n",
    "    return comments_df"
   ]
  },
  {
   "cell_type": "code",
   "execution_count": 10,
   "metadata": {},
   "outputs": [],
   "source": [
    "# clean folders\n",
    "clean_folders(PATH_PUBLICATIONS)"
   ]
  },
  {
   "cell_type": "code",
   "execution_count": 11,
   "metadata": {},
   "outputs": [],
   "source": [
    "# save comments\n",
    "comments_df = save_comments(PATH_PUBLICATIONS)"
   ]
  },
  {
   "cell_type": "code",
   "execution_count": 14,
   "metadata": {
    "scrolled": true
   },
   "outputs": [
    {
     "data": {
      "text/plain": [
       "['38 mm idéal pour une femme sportive et raffinée, et l’or rose , couleur délicate qui se fond sur la peau .\\nLa couleur de la discrète élégance !❤️',\n",
       " '❤️',\n",
       " 'Gougers time pieces',\n",
       " 'معشوقتي',\n",
       " '🔥🔥🔥🔥🔥🔥🔥',\n",
       " 'Amazing details ✨',\n",
       " 'Best best',\n",
       " '@_girlwithnojob___ buy for me 🥺🥺🥰',\n",
       " '❤️❤️❤️❤️😍😍😍😍',\n",
       " '😍😍😍😍😍😍',\n",
       " '@cadillacx7',\n",
       " '@danif_877',\n",
       " '@waleedziw',\n",
       " 'Perfection qualité 👌',\n",
       " 'Amazing watch',\n",
       " '.\\n📷\\n.\\n#photography \\n#ali_m.ph\\n#edits\\n#🦁',\n",
       " '.\\n📷\\n.\\n#photography \\n#ali_m.ph\\n#edits\\n#🦁',\n",
       " 'Very pretty😍❤️',\n",
       " '⌚',\n",
       " 'HODINKEE - \"When Omega\\'s designers sat down to discuss the very special 908th incarnation of the Speedmaster, the company said they deliberated for what seemed like an eternity on what it should look like. According to an inside source, in reality it was more like thirty minutes, but the conversation was indeed heated.  Ultimately it was decided that they would give horology fans what they always wanted: a concept piece entitled, \\'The Watch Liberace Might Have Worn if he Were one of the Apollo 11 Astronauts.\\'\"',\n",
       " '👏👏👏',\n",
       " 'I’ve messaged omega through Instagram and had no response !',\n",
       " 'Love details! ❤️',\n",
       " '@carl.obena 😊',\n",
       " '😍😍😍',\n",
       " 'Not our fave Speedys but appreciate the details here for sure.',\n",
       " '@shefyfishy Birthday coming soon.. #JustSaying',\n",
       " '❤️❤️❤️',\n",
       " '✨✨✨✨',\n",
       " '👍👍👍👍👌👌👌👌',\n",
       " '🇨🇭🇨🇭🇨🇭🇨🇭',\n",
       " '#omega watch ⌚',\n",
       " '☀️☀️☀️☀️🔥🔥🔥',\n",
       " 'Wow this is amazing❤️',\n",
       " 'There is a penis on the top indice. .i.',\n",
       " 'Nice',\n",
       " 'Pure perfection 💛💛',\n",
       " 'My cup of Cappuccino ☕',\n",
       " '💕💕💕💕',\n",
       " '@rich24tkd 👍',\n",
       " '@anacarlarn',\n",
       " '❤️👌',\n",
       " 'Nice 🏆👍😎',\n",
       " '@raanym_sh 😶😶😶😶',\n",
       " 'Beautiful ❤️',\n",
       " 'Iiiiii Love Ômega ❤️',\n",
       " '💯💯💯',\n",
       " 'Wishing you continued success & peace 🎉⭐️',\n",
       " 'Wonderful 😍',\n",
       " 'It matches the diamonds on the soles of her hiking boots.',\n",
       " '💛💛💛💛💛💛💛',\n",
       " '💛💛💛💛',\n",
       " '💕💕💕💕',\n",
       " 'Like si tienes un Casio',\n",
       " '😍😍😍😍😍😍😍😍😍😍😍😍😍',\n",
       " 'Stunning',\n",
       " '👍',\n",
       " 'Me likey',\n",
       " 'Stunning!',\n",
       " 'Stunning',\n",
       " '💛',\n",
       " '🔥🔥😍']"
      ]
     },
     "execution_count": 14,
     "metadata": {},
     "output_type": "execute_result"
    }
   ],
   "source": [
    "comments_df.comment.tolist()"
   ]
  },
  {
   "cell_type": "code",
   "execution_count": null,
   "metadata": {},
   "outputs": [],
   "source": []
  }
 ],
 "metadata": {
  "kernelspec": {
   "display_name": "Python 3",
   "language": "python",
   "name": "python3"
  },
  "language_info": {
   "codemirror_mode": {
    "name": "ipython",
    "version": 3
   },
   "file_extension": ".py",
   "mimetype": "text/x-python",
   "name": "python",
   "nbconvert_exporter": "python",
   "pygments_lexer": "ipython3",
   "version": "3.7.6"
  }
 },
 "nbformat": 4,
 "nbformat_minor": 4
}
